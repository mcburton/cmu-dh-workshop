{
 "cells": [
  {
   "cell_type": "markdown",
   "metadata": {},
   "source": [
    "# Programming in Python"
   ]
  },
  {
   "cell_type": "markdown",
   "metadata": {},
   "source": [
    "This series of lessons will cover the basics of a programming language called Python:"
   ]
  },
  {
   "cell_type": "markdown",
   "metadata": {},
   "source": [
    ":::{tableofcontents}\n",
    ":::"
   ]
  },
  {
   "cell_type": "markdown",
   "metadata": {},
   "source": [
    "## \"Some things to think about before you exhort everyone to code\""
   ]
  },
  {
   "cell_type": "markdown",
   "metadata": {},
   "source": [
    "```{epigraph}\n",
    "Programming knowledge is not a neutral thing\n",
    "\n",
    "-- [Miriam Posner](https://miriamposner.com/blog/some-things-to-think-about-before-you-exhort-everyone-to-code/)\n",
    "```"
   ]
  },
  {
   "cell_type": "markdown",
   "metadata": {},
   "source": [
    "Miriam Posner, a professor of DH and information studies at UCLA, wrote an excellent blog post about why people should think before they [\"exhort everyone to code.\"](https://miriamposner.com/blog/some-things-to-think-about-before-you-exhort-everyone-to-code/) In her blog post, Posner discusses that certain kinds of people, like middle-class white men, are more likely to be exposed to programming languages at a young age and are less likely to experience sexism and racism while learning programming languages. \"Programming knowledge is not a neutral thing,\" she argues.\n",
    "\n",
    "Before we dive into Python, we want to acknowledge that programming knowledge is not a neutral thing or a natural thing. Further, programming knowledge is not a superior form of knowledge, and it is not the best way to approach every problem."
   ]
  },
  {
   "cell_type": "markdown",
   "metadata": {},
   "source": [
    "## Why Learn a Programming Language?"
   ]
  },
  {
   "cell_type": "markdown",
   "metadata": {},
   "source": [
    "With all that said, why might it be worthwhile to learn a programming language? "
   ]
  },
  {
   "cell_type": "markdown",
   "metadata": {},
   "source": [
    "* You can save time and energy by automating tasks\n",
    "* You can collect and analyze cultural data from a different perspective, such as from a larger scale or a new angle\n",
    "* You can gain more flexibility, customizability, and autonomy over your digital research projects\n",
    "* You can better understand how data and programming languages shape contemporary society and culture "
   ]
  },
  {
   "cell_type": "markdown",
   "metadata": {},
   "source": [
    "## Why Python Specifically?"
   ]
  },
  {
   "cell_type": "markdown",
   "metadata": {},
   "source": [
    "Ok but why Python specifically?"
   ]
  },
  {
   "cell_type": "markdown",
   "metadata": {},
   "source": [
    "* Python resembles the English language and is readable for those who know English\n",
    "* Python is known to have a relatively smooth learning curve\n",
    "* Python is a broadly used and popular language\n",
    "* Python is increasingly good for data science"
   ]
  },
  {
   "cell_type": "markdown",
   "metadata": {},
   "source": [
    "Other commonly used programming languages for cultural analytics/digital humanities include [R](https://humanitiesdata.org/) and [JavaScript](https://the-javascripting-english-major.org/v1/)."
   ]
  },
  {
   "cell_type": "markdown",
   "metadata": {},
   "source": [
    "## Learning Goals with Python"
   ]
  },
  {
   "cell_type": "markdown",
   "metadata": {},
   "source": [
    "Our learning goals with Python are a little different than they might be in a straightforward Computer Science course. We're striving to:"
   ]
  },
  {
   "cell_type": "markdown",
   "metadata": {},
   "source": [
    "* Learn how to use Python as a tool and apply it to cultural questions\n",
    "* Learn how to read and think critically about Python code\n",
    "* Learn how to tinker with existing Python code for our own purposes\n",
    "* Learn how to better collaborate with computer scientists and software developers"
   ]
  },
  {
   "cell_type": "markdown",
   "metadata": {},
   "source": [
    "## Python Version 3"
   ]
  },
  {
   "cell_type": "markdown",
   "metadata": {},
   "source": [
    " The latest version of Python is Python 3. Python 2 has officially been [retired](https://www.python.org/doc/sunset-python-2/). You should not use Python 2.\n",
    " \n",
    " It's possible that you may come across old Python 2 code on the internet, which won't work with Python 3. A tell-tale difference between Python 3 and Python 2 code is the syntax for the `print()` function. "
   ]
  },
  {
   "cell_type": "markdown",
   "metadata": {},
   "source": [
    "### Python 3"
   ]
  },
  {
   "cell_type": "markdown",
   "metadata": {},
   "source": [
    "In Python 3, the `print()` function requires parentheses."
   ]
  },
  {
   "cell_type": "code",
   "execution_count": 1,
   "metadata": {},
   "outputs": [
    {
     "name": "stdout",
     "output_type": "stream",
     "text": [
      "Good riddance, Python 2!\n"
     ]
    }
   ],
   "source": [
    "print(\"Good riddance, Python 2!\")"
   ]
  },
  {
   "cell_type": "markdown",
   "metadata": {},
   "source": [
    "### Python 2"
   ]
  },
  {
   "cell_type": "markdown",
   "metadata": {},
   "source": [
    "In Python 2, the `print()` function does not parentheses."
   ]
  },
  {
   "cell_type": "code",
   "execution_count": 2,
   "metadata": {},
   "outputs": [
    {
     "ename": "SyntaxError",
     "evalue": "Missing parentheses in call to 'print'. Did you mean print(\"Good riddance, Python 2!\"\")? (<ipython-input-2-479c4eb9334d>, line 1)",
     "output_type": "error",
     "traceback": [
      "\u001b[0;36m  File \u001b[0;32m\"<ipython-input-2-479c4eb9334d>\"\u001b[0;36m, line \u001b[0;32m1\u001b[0m\n\u001b[0;31m    print \"Good riddance, Python 2!\"\"\u001b[0m\n\u001b[0m                                   ^\u001b[0m\n\u001b[0;31mSyntaxError\u001b[0m\u001b[0;31m:\u001b[0m Missing parentheses in call to 'print'. Did you mean print(\"Good riddance, Python 2!\"\")?\n"
     ]
    }
   ],
   "source": [
    "print \"Good riddance, Python 2!\"\""
   ]
  }
 ],
 "metadata": {
  "kernelspec": {
   "display_name": "Python 3",
   "language": "python",
   "name": "python3"
  },
  "language_info": {
   "codemirror_mode": {
    "name": "ipython",
    "version": 3
   },
   "file_extension": ".py",
   "mimetype": "text/x-python",
   "name": "python",
   "nbconvert_exporter": "python",
   "pygments_lexer": "ipython3",
   "version": "3.8.8"
  }
 },
 "nbformat": 4,
 "nbformat_minor": 4
}
