{
 "cells": [
  {
   "cell_type": "markdown",
   "metadata": {},
   "source": [
    "# How to Use Jupyter Notebooks"
   ]
  },
  {
   "cell_type": "markdown",
   "metadata": {},
   "source": [
    "A [Jupyter notebook](https://jupyter.readthedocs.io/en/latest/install.html#jupyter-notebook-interface) is a document that can combine live programming code, text, images, and pretty displays of data all in the same place. This combination makes Jupyter notebooks clutch for exploring data as well as for learning and teaching.\n",
    "\n",
    "A Jupyter notebook has a special *.ipynb* file extension and can only be opened if you have the application JupyterLab or Jupyter Notebook installed and running. One of the cool things about Jupyter Book, which powers this online textbook, is that you can open a Jupyter notebook on the internet without any prior installation or configuration — using services like Binder."
   ]
  },
  {
   "cell_type": "markdown",
   "metadata": {},
   "source": [
    "## Some of Jupyter's Nice Features"
   ]
  },
  {
   "cell_type": "markdown",
   "metadata": {},
   "source": [
    "This document is a Jupyter notebook! Let's quickly demonstrate some of the features that make Jupyter notebooks useful.\n",
    "\n",
    "### Display Data\n",
    "\n",
    "We can display and explore data in a readable and aesthetically-pleasing way.\n",
    "\n",
    "For example, here's a snippet of a CSV file with some data about films and character dialogue, compiled by [The Pudding](https://github.com/matthewfdaniels/scripts/). We'll be working with this data in a later lesson."
   ]
  },
  {
   "cell_type": "code",
   "execution_count": 14,
   "metadata": {},
   "outputs": [
    {
     "data": {
      "text/html": [
       "<div>\n",
       "<style scoped>\n",
       "    .dataframe tbody tr th:only-of-type {\n",
       "        vertical-align: middle;\n",
       "    }\n",
       "\n",
       "    .dataframe tbody tr th {\n",
       "        vertical-align: top;\n",
       "    }\n",
       "\n",
       "    .dataframe thead th {\n",
       "        text-align: right;\n",
       "    }\n",
       "</style>\n",
       "<table border=\"1\" class=\"dataframe\">\n",
       "  <thead>\n",
       "    <tr style=\"text-align: right;\">\n",
       "      <th></th>\n",
       "      <th>script_id</th>\n",
       "      <th>character</th>\n",
       "      <th>words</th>\n",
       "      <th>gender</th>\n",
       "      <th>age</th>\n",
       "      <th>title</th>\n",
       "      <th>release_year</th>\n",
       "      <th>gross</th>\n",
       "      <th>proportion_of_dialogue</th>\n",
       "      <th>after_2000</th>\n",
       "    </tr>\n",
       "  </thead>\n",
       "  <tbody>\n",
       "    <tr>\n",
       "      <th>23043</th>\n",
       "      <td>9254</td>\n",
       "      <td>Lumiere</td>\n",
       "      <td>1063</td>\n",
       "      <td>Man</td>\n",
       "      <td>56.0</td>\n",
       "      <td>Beauty and the Beast</td>\n",
       "      <td>1991-01-01</td>\n",
       "      <td>452.0</td>\n",
       "      <td>0.104636</td>\n",
       "      <td>False</td>\n",
       "    </tr>\n",
       "    <tr>\n",
       "      <th>23044</th>\n",
       "      <td>9254</td>\n",
       "      <td>Maurice</td>\n",
       "      <td>1107</td>\n",
       "      <td>Man</td>\n",
       "      <td>71.0</td>\n",
       "      <td>Beauty and the Beast</td>\n",
       "      <td>1991-01-01</td>\n",
       "      <td>452.0</td>\n",
       "      <td>0.108967</td>\n",
       "      <td>False</td>\n",
       "    </tr>\n",
       "    <tr>\n",
       "      <th>23045</th>\n",
       "      <td>9254</td>\n",
       "      <td>Monsieur D'Arqu</td>\n",
       "      <td>114</td>\n",
       "      <td>Man</td>\n",
       "      <td>58.0</td>\n",
       "      <td>Beauty and the Beast</td>\n",
       "      <td>1991-01-01</td>\n",
       "      <td>452.0</td>\n",
       "      <td>0.011222</td>\n",
       "      <td>False</td>\n",
       "    </tr>\n",
       "    <tr>\n",
       "      <th>23046</th>\n",
       "      <td>9254</td>\n",
       "      <td>Mrs. Potts</td>\n",
       "      <td>564</td>\n",
       "      <td>Woman</td>\n",
       "      <td>66.0</td>\n",
       "      <td>Beauty and the Beast</td>\n",
       "      <td>1991-01-01</td>\n",
       "      <td>452.0</td>\n",
       "      <td>0.055517</td>\n",
       "      <td>False</td>\n",
       "    </tr>\n",
       "    <tr>\n",
       "      <th>23047</th>\n",
       "      <td>9254</td>\n",
       "      <td>Wardrobe</td>\n",
       "      <td>121</td>\n",
       "      <td>Woman</td>\n",
       "      <td>54.0</td>\n",
       "      <td>Beauty and the Beast</td>\n",
       "      <td>1991-01-01</td>\n",
       "      <td>452.0</td>\n",
       "      <td>0.011911</td>\n",
       "      <td>False</td>\n",
       "    </tr>\n",
       "  </tbody>\n",
       "</table>\n",
       "</div>"
      ],
      "text/plain": [
       "       script_id        character  words gender   age                 title  \\\n",
       "23043       9254          Lumiere   1063    Man  56.0  Beauty and the Beast   \n",
       "23044       9254          Maurice   1107    Man  71.0  Beauty and the Beast   \n",
       "23045       9254  Monsieur D'Arqu    114    Man  58.0  Beauty and the Beast   \n",
       "23046       9254       Mrs. Potts    564  Woman  66.0  Beauty and the Beast   \n",
       "23047       9254         Wardrobe    121  Woman  54.0  Beauty and the Beast   \n",
       "\n",
       "      release_year  gross  proportion_of_dialogue  after_2000  \n",
       "23043   1991-01-01  452.0                0.104636       False  \n",
       "23044   1991-01-01  452.0                0.108967       False  \n",
       "23045   1991-01-01  452.0                0.011222       False  \n",
       "23046   1991-01-01  452.0                0.055517       False  \n",
       "23047   1991-01-01  452.0                0.011911       False  "
      ]
     },
     "execution_count": 14,
     "metadata": {},
     "output_type": "execute_result"
    }
   ],
   "source": [
    "import pandas as pd\n",
    "movie_data = pd.read_csv('../data/Pudding/Pudding-Film-Dialogue-Clean.csv')\n",
    "movie_data.tail(5)"
   ]
  },
  {
   "cell_type": "markdown",
   "metadata": {},
   "source": [
    "### Make Data Visualizations "
   ]
  },
  {
   "cell_type": "markdown",
   "metadata": {},
   "source": [
    "We can create visualizations based on the above data in the very same document.\n",
    "\n",
    "Here's a plot of *The Pudding* films by year of their release."
   ]
  },
  {
   "cell_type": "code",
   "execution_count": 20,
   "metadata": {},
   "outputs": [
    {
     "data": {
      "text/plain": [
       "<matplotlib.axes._subplots.AxesSubplot at 0x1191aed50>"
      ]
     },
     "execution_count": 20,
     "metadata": {},
     "output_type": "execute_result"
    },
    {
     "data": {
      "image/png": "[encoded data removed]",
      "text/plain": [
       "<Figure size 432x288 with 1 Axes>"
      ]
     },
     "metadata": {
      "needs_background": "light"
     },
     "output_type": "display_data"
    }
   ],
   "source": [
    "movie_data.groupby('release_year')['title'].count().plot(title='Films By Year')"
   ]
  },
  {
   "cell_type": "markdown",
   "metadata": {},
   "source": [
    "### Combine Code, Text, Images, and Links"
   ]
  },
  {
   "cell_type": "markdown",
   "metadata": {},
   "source": [
    "We can combine code, text, images, and links."
   ]
  },
  {
   "cell_type": "markdown",
   "metadata": {},
   "source": [
    "For example, here's some data about *Beauty and the Beast*."
   ]
  },
  {
   "cell_type": "code",
   "execution_count": 21,
   "metadata": {},
   "outputs": [
    {
     "data": {
      "text/html": [
       "<div>\n",
       "<style scoped>\n",
       "    .dataframe tbody tr th:only-of-type {\n",
       "        vertical-align: middle;\n",
       "    }\n",
       "\n",
       "    .dataframe tbody tr th {\n",
       "        vertical-align: top;\n",
       "    }\n",
       "\n",
       "    .dataframe thead th {\n",
       "        text-align: right;\n",
       "    }\n",
       "</style>\n",
       "<table border=\"1\" class=\"dataframe\">\n",
       "  <thead>\n",
       "    <tr style=\"text-align: right;\">\n",
       "      <th></th>\n",
       "      <th>script_id</th>\n",
       "      <th>character</th>\n",
       "      <th>words</th>\n",
       "      <th>gender</th>\n",
       "      <th>age</th>\n",
       "      <th>title</th>\n",
       "      <th>release_year</th>\n",
       "      <th>gross</th>\n",
       "      <th>proportion_of_dialogue</th>\n",
       "      <th>after_2000</th>\n",
       "    </tr>\n",
       "  </thead>\n",
       "  <tbody>\n",
       "    <tr>\n",
       "      <th>23037</th>\n",
       "      <td>9254</td>\n",
       "      <td>Beast</td>\n",
       "      <td>1162</td>\n",
       "      <td>Man</td>\n",
       "      <td>35.0</td>\n",
       "      <td>Beauty and the Beast</td>\n",
       "      <td>1991-01-01</td>\n",
       "      <td>452.0</td>\n",
       "      <td>0.114381</td>\n",
       "      <td>False</td>\n",
       "    </tr>\n",
       "    <tr>\n",
       "      <th>23038</th>\n",
       "      <td>9254</td>\n",
       "      <td>Belle</td>\n",
       "      <td>2183</td>\n",
       "      <td>Woman</td>\n",
       "      <td>35.0</td>\n",
       "      <td>Beauty and the Beast</td>\n",
       "      <td>1991-01-01</td>\n",
       "      <td>452.0</td>\n",
       "      <td>0.214883</td>\n",
       "      <td>False</td>\n",
       "    </tr>\n",
       "    <tr>\n",
       "      <th>23039</th>\n",
       "      <td>9254</td>\n",
       "      <td>Chip</td>\n",
       "      <td>446</td>\n",
       "      <td>Man</td>\n",
       "      <td>9.0</td>\n",
       "      <td>Beauty and the Beast</td>\n",
       "      <td>1991-01-01</td>\n",
       "      <td>452.0</td>\n",
       "      <td>0.043902</td>\n",
       "      <td>False</td>\n",
       "    </tr>\n",
       "    <tr>\n",
       "      <th>23040</th>\n",
       "      <td>9254</td>\n",
       "      <td>Cogsworth</td>\n",
       "      <td>1658</td>\n",
       "      <td>Man</td>\n",
       "      <td>49.0</td>\n",
       "      <td>Beauty and the Beast</td>\n",
       "      <td>1991-01-01</td>\n",
       "      <td>452.0</td>\n",
       "      <td>0.163205</td>\n",
       "      <td>False</td>\n",
       "    </tr>\n",
       "    <tr>\n",
       "      <th>23041</th>\n",
       "      <td>9254</td>\n",
       "      <td>Gaston</td>\n",
       "      <td>1326</td>\n",
       "      <td>Man</td>\n",
       "      <td>38.0</td>\n",
       "      <td>Beauty and the Beast</td>\n",
       "      <td>1991-01-01</td>\n",
       "      <td>452.0</td>\n",
       "      <td>0.130525</td>\n",
       "      <td>False</td>\n",
       "    </tr>\n",
       "    <tr>\n",
       "      <th>23042</th>\n",
       "      <td>9254</td>\n",
       "      <td>Lefou</td>\n",
       "      <td>415</td>\n",
       "      <td>Man</td>\n",
       "      <td>NaN</td>\n",
       "      <td>Beauty and the Beast</td>\n",
       "      <td>1991-01-01</td>\n",
       "      <td>452.0</td>\n",
       "      <td>0.040850</td>\n",
       "      <td>False</td>\n",
       "    </tr>\n",
       "    <tr>\n",
       "      <th>23043</th>\n",
       "      <td>9254</td>\n",
       "      <td>Lumiere</td>\n",
       "      <td>1063</td>\n",
       "      <td>Man</td>\n",
       "      <td>56.0</td>\n",
       "      <td>Beauty and the Beast</td>\n",
       "      <td>1991-01-01</td>\n",
       "      <td>452.0</td>\n",
       "      <td>0.104636</td>\n",
       "      <td>False</td>\n",
       "    </tr>\n",
       "    <tr>\n",
       "      <th>23044</th>\n",
       "      <td>9254</td>\n",
       "      <td>Maurice</td>\n",
       "      <td>1107</td>\n",
       "      <td>Man</td>\n",
       "      <td>71.0</td>\n",
       "      <td>Beauty and the Beast</td>\n",
       "      <td>1991-01-01</td>\n",
       "      <td>452.0</td>\n",
       "      <td>0.108967</td>\n",
       "      <td>False</td>\n",
       "    </tr>\n",
       "    <tr>\n",
       "      <th>23045</th>\n",
       "      <td>9254</td>\n",
       "      <td>Monsieur D'Arqu</td>\n",
       "      <td>114</td>\n",
       "      <td>Man</td>\n",
       "      <td>58.0</td>\n",
       "      <td>Beauty and the Beast</td>\n",
       "      <td>1991-01-01</td>\n",
       "      <td>452.0</td>\n",
       "      <td>0.011222</td>\n",
       "      <td>False</td>\n",
       "    </tr>\n",
       "    <tr>\n",
       "      <th>23046</th>\n",
       "      <td>9254</td>\n",
       "      <td>Mrs. Potts</td>\n",
       "      <td>564</td>\n",
       "      <td>Woman</td>\n",
       "      <td>66.0</td>\n",
       "      <td>Beauty and the Beast</td>\n",
       "      <td>1991-01-01</td>\n",
       "      <td>452.0</td>\n",
       "      <td>0.055517</td>\n",
       "      <td>False</td>\n",
       "    </tr>\n",
       "    <tr>\n",
       "      <th>23047</th>\n",
       "      <td>9254</td>\n",
       "      <td>Wardrobe</td>\n",
       "      <td>121</td>\n",
       "      <td>Woman</td>\n",
       "      <td>54.0</td>\n",
       "      <td>Beauty and the Beast</td>\n",
       "      <td>1991-01-01</td>\n",
       "      <td>452.0</td>\n",
       "      <td>0.011911</td>\n",
       "      <td>False</td>\n",
       "    </tr>\n",
       "  </tbody>\n",
       "</table>\n",
       "</div>"
      ],
      "text/plain": [
       "       script_id        character  words gender   age                 title  \\\n",
       "23037       9254            Beast   1162    Man  35.0  Beauty and the Beast   \n",
       "23038       9254            Belle   2183  Woman  35.0  Beauty and the Beast   \n",
       "23039       9254             Chip    446    Man   9.0  Beauty and the Beast   \n",
       "23040       9254        Cogsworth   1658    Man  49.0  Beauty and the Beast   \n",
       "23041       9254           Gaston   1326    Man  38.0  Beauty and the Beast   \n",
       "23042       9254            Lefou    415    Man   NaN  Beauty and the Beast   \n",
       "23043       9254          Lumiere   1063    Man  56.0  Beauty and the Beast   \n",
       "23044       9254          Maurice   1107    Man  71.0  Beauty and the Beast   \n",
       "23045       9254  Monsieur D'Arqu    114    Man  58.0  Beauty and the Beast   \n",
       "23046       9254       Mrs. Potts    564  Woman  66.0  Beauty and the Beast   \n",
       "23047       9254         Wardrobe    121  Woman  54.0  Beauty and the Beast   \n",
       "\n",
       "      release_year  gross  proportion_of_dialogue  after_2000  \n",
       "23037   1991-01-01  452.0                0.114381       False  \n",
       "23038   1991-01-01  452.0                0.214883       False  \n",
       "23039   1991-01-01  452.0                0.043902       False  \n",
       "23040   1991-01-01  452.0                0.163205       False  \n",
       "23041   1991-01-01  452.0                0.130525       False  \n",
       "23042   1991-01-01  452.0                0.040850       False  \n",
       "23043   1991-01-01  452.0                0.104636       False  \n",
       "23044   1991-01-01  452.0                0.108967       False  \n",
       "23045   1991-01-01  452.0                0.011222       False  \n",
       "23046   1991-01-01  452.0                0.055517       False  \n",
       "23047   1991-01-01  452.0                0.011911       False  "
      ]
     },
     "execution_count": 21,
     "metadata": {},
     "output_type": "execute_result"
    }
   ],
   "source": [
    "movie_data[movie_data['title'] =='Beauty and the Beast']"
   ]
  },
  {
   "cell_type": "markdown",
   "metadata": {},
   "source": [
    "Now here's an image of *Beauty and the Beast* characters."
   ]
  },
  {
   "cell_type": "markdown",
   "metadata": {},
   "source": [
    "![Beauty and the Beast characters image](https://upload.wikimedia.org/wikipedia/en/b/b6/BeautyBeastCharacters.jpg)"
   ]
  },
  {
   "cell_type": "markdown",
   "metadata": {},
   "source": [
    "See the section [Code vs Markdown Cells](code-vs-markdown-cells) below for more information about how to include text, images, and links in a Jupyter notebook."
   ]
  },
  {
   "cell_type": "markdown",
   "metadata": {},
   "source": [
    "## How to Launch JupyterLab"
   ]
  },
  {
   "cell_type": "markdown",
   "metadata": {},
   "source": [
    "To open a Jupyter notebook file (.ipynb), you need to have a Jupyter application both installed *and* running. This is confusing for many beginners. If you have Jupyter installed, it seems like you should just be able to click a Jupyter notebook to open it, but you need to launch the application program Jupyter Notebook or JupyterLab first."
   ]
  },
  {
   "cell_type": "markdown",
   "metadata": {},
   "source": [
    "```{margin}\n",
    "To be clear, I use Jupyter *n*otebook with a lowercase *n* to refer to the document (.ipynb file) and Jupyter *N*otebook with a capital *N* to refer to the application program.\n",
    "```\n",
    "\n",
    "In this class, we're using JupyterLab as our primary Jupyter application program. JupyterLab and Jupyter Notebook are very similar programs, but JupyterLab is newer and has a bigger and better user interface as well as other improved features. "
   ]
  },
  {
   "cell_type": "markdown",
   "metadata": {},
   "source": [
    "### Anaconda Navigator"
   ]
  },
  {
   "cell_type": "markdown",
   "metadata": {},
   "source": [
    "There are two main ways you can launch JupyterLab. First, you can launch JupyterLab from Anaconda Navigator. You can find Anaconda Navigator in your Applications folder or by searching your computer."
   ]
  },
  {
   "cell_type": "markdown",
   "metadata": {},
   "source": [
    "<img src=\"../images/installation/navigator-app.png\" width=80%  >"
   ]
  },
  {
   "cell_type": "markdown",
   "metadata": {},
   "source": [
    "Once Anaconda Navigator opens, you can launch JupyterLab by clicking \"Launch\" under the JupyterLab icon."
   ]
  },
  {
   "cell_type": "markdown",
   "metadata": {},
   "source": [
    "<img src=\"https://docs.anaconda.com/_images/nav-defaults.png\" widht=80% >"
   ]
  },
  {
   "cell_type": "markdown",
   "metadata": {},
   "source": [
    "### Command Line"
   ]
  },
  {
   "cell_type": "markdown",
   "metadata": {},
   "source": [
    "Second, you can launch Jupyter lab from the command line. PATH."
   ]
  },
  {
   "cell_type": "code",
   "execution_count": null,
   "metadata": {
    "tags": [
     "command_line"
    ]
   },
   "outputs": [],
   "source": [
    "jupyter lab"
   ]
  },
  {
   "cell_type": "markdown",
   "metadata": {},
   "source": [
    "```{attention}\n",
    "JupyterLab will open from whatever location you launch from on the command line\n",
    "```"
   ]
  },
  {
   "cell_type": "markdown",
   "metadata": {},
   "source": [
    "### Wait Why is JupyterLab Opening in My Web Browser?"
   ]
  },
  {
   "cell_type": "markdown",
   "metadata": {},
   "source": [
    "JupyterLab opens in a web browser. But JupyterLab is not connected to the internet. It is simply running on a local server on your own personal computer."
   ]
  },
  {
   "cell_type": "markdown",
   "metadata": {},
   "source": [
    "## How to Shut Down JupyterLab"
   ]
  },
  {
   "cell_type": "markdown",
   "metadata": {},
   "source": [
    "To shut down JupyterLab, you can go to File -> Shut Down.\n",
    "\n",
    "You can also shut down JupyterLab from the command line by pressing `Control` + `C`."
   ]
  },
  {
   "cell_type": "markdown",
   "metadata": {},
   "source": [
    "## How to Make a New Jupyter Notebook"
   ]
  },
  {
   "cell_type": "markdown",
   "metadata": {},
   "source": [
    "To make a new Jupyter notebook, select the Python 3 icon under \"Notebook.\""
   ]
  },
  {
   "cell_type": "markdown",
   "metadata": {},
   "source": [
    "<img src=\"../images/make-new-Jupyter.png\" width=80% >"
   ]
  },
  {
   "cell_type": "markdown",
   "metadata": {},
   "source": [
    "## How to Create and Run a Cell"
   ]
  },
  {
   "cell_type": "markdown",
   "metadata": {},
   "source": [
    "* You can create a new cell by clicking the plus `+` sign in the toolbar or by pressing `Option` + `Return` (Mac) / `Alt` `Return` (Windows)"
   ]
  },
  {
   "cell_type": "markdown",
   "metadata": {},
   "source": [
    "* You can run the cell by clicking the play button ▶️ on the toolbar above or by typing `Shift` + `Return`."
   ]
  },
  {
   "cell_type": "code",
   "execution_count": 3,
   "metadata": {
    "tags": [
     "hide-input"
    ]
   },
   "outputs": [
    {
     "data": {
      "text/html": [
       "\n",
       "        <iframe\n",
       "            width=\"100%\"\n",
       "            height=\"400px\"\n",
       "            src=\"../videos/create-and-run-cell.mp4\"\n",
       "            frameborder=\"0\"\n",
       "            allowfullscreen\n",
       "        ></iframe>\n",
       "        "
      ],
      "text/plain": [
       "<IPython.lib.display.IFrame at 0x10e082990>"
      ]
     },
     "execution_count": 3,
     "metadata": {},
     "output_type": "execute_result"
    }
   ],
   "source": [
    "from IPython.display import IFrame\n",
    "IFrame(\"../videos/create-and-run-cell.mp4\", width='100%', height='400px')"
   ]
  },
  {
   "cell_type": "markdown",
   "metadata": {},
   "source": [
    "## Code vs Markdown Cells"
   ]
  },
  {
   "cell_type": "markdown",
   "metadata": {},
   "source": [
    "Jupyter notebooks are made up of *cells*, which can either contain code or [Markdown](https://www.markdownguide.org/getting-started/) text. Markdown is a simple \"language\" that allows you to include formatting instructions directly in the text — bold, italics, headers, links, imgages, code, and more. Markdown is used all over the internet, including on [Reddit](https://www.reddit.com/wiki/markdown#wiki_quick_reference) and on [GitHub](https://guides.github.com/features/mastering-markdown/)."
   ]
  },
  {
   "cell_type": "markdown",
   "metadata": {},
   "source": [
    "````{list-table}\n",
    ":header-rows: 1\n",
    "\n",
    "* - Markdown Syntax\n",
    "  - Markdown Results\n",
    "* - ```\n",
    "    To make text *italics*\n",
    "    ```\n",
    "  - To make text *italics*\n",
    "* - ```\n",
    "    To make text **bold***\n",
    "    ```\n",
    "  -  To make text **bold**\n",
    "* - ```\n",
    "    To make text a [link](https://melaniewalsh.org/)\n",
    "    ```\n",
    "  - To make text a [link](https://melaniewalsh.org/) \n",
    "* - ```\n",
    "     To make text `code`\n",
    "     ```\n",
    "  - To make text `code` \n",
    "````"
   ]
  },
  {
   "cell_type": "markdown",
   "metadata": {},
   "source": [
    "* You can change the cell from \"Code\" to \"Markdown\" by clicking the drop down in the toolbar."
   ]
  },
  {
   "cell_type": "markdown",
   "metadata": {},
   "source": [
    "* For more on what you can do with Markdown, see Adam Pritchard's [Markdown Cheatsheet](https://github.com/adam-p/markdown-here/wiki/Markdown-Cheatsheet)."
   ]
  },
  {
   "cell_type": "markdown",
   "metadata": {},
   "source": [
    "## How to Save Your Notebook"
   ]
  },
  {
   "cell_type": "markdown",
   "metadata": {},
   "source": [
    "If you want to save your notebook, press `Command ⌘` + `S` (Mac) / `Windows Key` + `S` (Windows)."
   ]
  }
 ],
 "metadata": {
  "kernelspec": {
   "display_name": "Python 3",
   "language": "python",
   "name": "python3"
  },
  "language_info": {
   "codemirror_mode": {
    "name": "ipython",
    "version": 3
   },
   "file_extension": ".py",
   "mimetype": "text/x-python",
   "name": "python",
   "nbconvert_exporter": "python",
   "pygments_lexer": "ipython3",
   "version": "3.8.8"
  }
 },
 "nbformat": 4,
 "nbformat_minor": 4
}
