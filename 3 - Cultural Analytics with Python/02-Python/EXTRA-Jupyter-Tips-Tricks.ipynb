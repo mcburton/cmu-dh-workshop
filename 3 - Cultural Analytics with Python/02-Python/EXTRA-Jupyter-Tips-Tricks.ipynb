{
 "cells": [
  {
   "cell_type": "markdown",
   "metadata": {},
   "source": [
    "# Jupyter Tips & Tricks"
   ]
  },
  {
   "cell_type": "markdown",
   "metadata": {},
   "source": [
    "## Code vs Markdown Cells"
   ]
  },
  {
   "cell_type": "markdown",
   "metadata": {},
   "source": [
    "Jupyter notebooks are made up of cells, which can either contain code or [Markdown](https://www.markdownguide.org/getting-started/) text.\n",
    "\n",
    "Markdown is a simple \"language\" that allows you to include formatting instructions directly in the text — bold, italics, headers, links, images, code, and more. Markdown is used all over the internet, such as on [Reddit](https://www.reddit.com/wiki/markdown#wiki_quick_reference) and on [GitHub](https://guides.github.com/features/mastering-markdown/)."
   ]
  },
  {
   "cell_type": "markdown",
   "metadata": {},
   "source": [
    "````{list-table}\n",
    ":header-rows: 1\n",
    "\n",
    "* - Markdown Syntax\n",
    "  - Markdown Results\n",
    "* - ```\n",
    "    To make text *italics*\n",
    "    ```\n",
    "  - To make text *italics*\n",
    "* - ```\n",
    "    To make text **bold***\n",
    "    ```\n",
    "  -  To make text **bold**\n",
    "* - ```\n",
    "    To make text a [link](https://melaniewalsh.org/)\n",
    "    ```\n",
    "  - To make text a [link](https://melaniewalsh.org/) \n",
    "* - ```\n",
    "     To make text `code`\n",
    "     ```\n",
    "  - To make text `code` \n",
    "````"
   ]
  },
  {
   "cell_type": "markdown",
   "metadata": {},
   "source": [
    "## Edit Mode vs Command Mode\n",
    "There are two modes in a Jupyter notebook: **Edit mode** and **Command mode**. You can use different keyboard shortcuts when in Edit vs Command mode."
   ]
  },
  {
   "cell_type": "code",
   "execution_count": 9,
   "metadata": {
    "tags": [
     "hide_input"
    ]
   },
   "outputs": [
    {
     "data": {
      "text/html": [
       "\n",
       "        <iframe\n",
       "            width=\"500\"\n",
       "            height=\"400\"\n",
       "            src=\"../videos/Edit-vs-Command-Mode.mp4\"\n",
       "            frameborder=\"0\"\n",
       "            allowfullscreen\n",
       "        ></iframe>\n",
       "        "
      ],
      "text/plain": [
       "<IPython.lib.display.IFrame at 0x10d3dad90>"
      ]
     },
     "execution_count": 9,
     "metadata": {},
     "output_type": "execute_result"
    }
   ],
   "source": [
    "from IPython.display import IFrame\n",
    "IFrame(\"../videos/Edit-vs-Command-Mode.mp4\", width='500', height='400')"
   ]
  },
  {
   "cell_type": "markdown",
   "metadata": {},
   "source": [
    "If you click inside a cell, you switch to **Edit mode**. The cell will be outlined by a blue line.\n",
    "\n",
    "If you click outside a cell in the sidebar or press `Esc`, then you switch to **Command mode**. The cell will no longer be outlined by a blue line. "
   ]
  },
  {
   "cell_type": "markdown",
   "metadata": {},
   "source": [
    "## Jupyter Keyboard Shortcut Cheatsheet"
   ]
  },
  {
   "cell_type": "markdown",
   "metadata": {},
   "source": [
    "```{margin} For all possible commands\n",
    "Press `Control` + `Shift` + `C` (Windows) or `Commmand` + `Shift` + `C` (Mac) to see all possible commands and shortcuts.\n",
    "```"
   ]
  },
  {
   "cell_type": "markdown",
   "metadata": {},
   "source": [
    "\n",
    "| Mac        | Jupyter Function                                                                                             | Windows       | \n",
    "|:---------------------------:|:-----------------------------------------------------------------------------------------------------------:|:---------------------------:|\n",
    "| `Shift` + `Return`  | Run cell  (**Both modes**)                                            | `Shift` + `Enter`     |\n",
    "| `Option` + `Return`                      | Create new cell below (**Both modes**)                                          | `Alt` + `Enter` \n",
    "| `B`                      | Create new cell below (**Command mode**)                                         | `B` \n",
    "| `A`                      | Create new cell above (**Command mode**)                                       | `A` \n",
    "| `D` + `D` (twice in a row)                      | Delete cell (**Command mode**)                                         | `D` + `D` (twice in a row)                    |\n",
    "| `Command` + `Z`                      | Undo action inside cell (**Edit mode**)                                         | `Control` + `Z` \n",
    "| `Z`                      | Undo action outside cell (e.g., undo deletion of a cell) (**Command mode**)                                         | `Z`  \n",
    "| `Shift` + `M`                     | Merge cells (**Command mode**)                     | `Shift` + `M`                      | \n",
    "| `Control` + `Shift` + `-`                   | Split cell into two cells (**Edit mode**)   |         `Control` + `Shift` + `-`   |                          \n",
    "| `Tab`                      | Autocomplete file/variable/function name (**Edit mode**)     | `Tab`    |     \\           \n",
    "| `Shift` + `L`                      | Toggle line numbers for code (**Command mode**)     | `Shift` + `L`    |        \n",
    "| `M`                      | Switch cell to Markdown (**Command mode**)     | `M`    |      \n",
    "| `Y`                      | Switch cell to Code (**Command mode**)     | `Y`    |      \n",
    "| `X`                      | Cut cell (**Command mode**)     | `X`    |           \n",
    "| `C`                      | Copy cell (**Command mode**)     | `C`    |           \n",
    "| `V`                      | Paste cell (**Command mode**)     | `V`    |      \n",
    "| `Control` + `/`                      | Comment out lines (**Edit mode**)     | `Command` + `/`    |   "
   ]
  },
  {
   "cell_type": "markdown",
   "metadata": {},
   "source": [
    "## Tab Autocomplete"
   ]
  },
  {
   "cell_type": "markdown",
   "metadata": {},
   "source": [
    "You can hit `Tab` to autocomplete a filepath or a function name. Typing out the correct file path isn't always easy, so tab autocomlete helps a lot!"
   ]
  },
  {
   "cell_type": "code",
   "execution_count": 13,
   "metadata": {
    "tags": [
     "hide_input"
    ]
   },
   "outputs": [
    {
     "data": {
      "text/html": [
       "\n",
       "        <iframe\n",
       "            width=\"800\"\n",
       "            height=\"400px\"\n",
       "            src=\"../videos/Tab-Autocomplete.mp4\"\n",
       "            frameborder=\"0\"\n",
       "            allowfullscreen\n",
       "        ></iframe>\n",
       "        "
      ],
      "text/plain": [
       "<IPython.lib.display.IFrame at 0x10d3ec550>"
      ]
     },
     "execution_count": 13,
     "metadata": {},
     "output_type": "execute_result"
    }
   ],
   "source": [
    "from IPython.display import IFrame\n",
    "IFrame(\"../videos/Tab-Autocomplete.mp4\", width='800', height='400px')"
   ]
  },
  {
   "cell_type": "markdown",
   "metadata": {},
   "source": [
    "## Enable / Disable Scrolling for Outputs"
   ]
  },
  {
   "cell_type": "markdown",
   "metadata": {},
   "source": [
    "* Right-click to enable / disable scrolling for outputs for any given cell"
   ]
  },
  {
   "cell_type": "markdown",
   "metadata": {},
   "source": [
    "If you produce a very long output, you can enable scrolling for that particular output, i.e., display a small preview of the output that allows you to scroll through the rest of the results. This feature can help keep your Jupyter notebooks from getting ridiculously long and unwieldy."
   ]
  },
  {
   "cell_type": "markdown",
   "metadata": {},
   "source": [
    "## Show File in Browser"
   ]
  },
  {
   "cell_type": "markdown",
   "metadata": {},
   "source": [
    "* Right-click the file at the top and select \"Show File in Browser\""
   ]
  },
  {
   "cell_type": "markdown",
   "metadata": {},
   "source": [
    "If you lose track of where your Jupyter notebook is located on your computer (it happens!), right-click and select \"Show File in Browser\" to see where it is located in the file browser on the left-hand side of the page."
   ]
  },
  {
   "cell_type": "markdown",
   "metadata": {},
   "source": [
    "## Interrupt / Restart Kernel"
   ]
  },
  {
   "cell_type": "markdown",
   "metadata": {},
   "source": [
    "* Go to Kernel --> Interrupt Kernel\n",
    "* Go to Kernel --> Restart Kernel"
   ]
  },
  {
   "cell_type": "markdown",
   "metadata": {},
   "source": [
    "If you run a cell, and it's taking ages to complete or seems to be stuck, you can *interrupt* the *kernel* to try to stop that particular process, and, if that doesn't work, you can *restart* the entire kernel.\n",
    "\n",
    "```{warning}\n",
    "\n",
    "Restarting the kernel will cause saved variables to be lost.\n",
    "```"
   ]
  },
  {
   "cell_type": "markdown",
   "metadata": {},
   "source": [
    "## More Resources"
   ]
  },
  {
   "cell_type": "markdown",
   "metadata": {},
   "source": [
    "* [Jupyter Python Notebook Keyboard Shortcuts and Text Snippets for Beginners](http://maxmelnick.com/2016/04/19/python-beginner-tips-and-tricks.html)"
   ]
  }
 ],
 "metadata": {
  "kernelspec": {
   "display_name": "Python 3 (ipykernel)",
   "language": "python",
   "name": "python3"
  },
  "language_info": {
   "codemirror_mode": {
    "name": "ipython",
    "version": 3
   },
   "file_extension": ".py",
   "mimetype": "text/x-python",
   "name": "python",
   "nbconvert_exporter": "python",
   "pygments_lexer": "ipython3",
   "version": "3.9.13"
  }
 },
 "nbformat": 4,
 "nbformat_minor": 4
}
