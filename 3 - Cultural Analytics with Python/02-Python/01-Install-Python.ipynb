{
 "cells": [
  {
   "cell_type": "markdown",
   "metadata": {},
   "source": [
    "# Install Python & JupyterLab"
   ]
  },
  {
   "cell_type": "markdown",
   "metadata": {},
   "source": [
    "We're going to install Python by installing [Anaconda](https://docs.anaconda.com/anaconda/), a \"distribution\" that comes with basic Python as well as over [250 popular Python packages](https://docs.anaconda.com/anaconda/packages/py3.8_osx-64/) that are already pre-installed. These packages, sometimes called libraries, are collections of code written by other people for specific purposes. We can install and use them on top of basic Python. Anaconda includes packages such as *pandas* for data analysis, *matplotlib* for data visualization, and perhaps most importantly *JupyterLab* for interactive coding.  \n",
    "\n",
    "Anaconda is also a package manager and environment manager. This functionality helps address a common problem that occurs when working with Python packages: when different versions of the same package conflict and break your code. If you're trying to use a tool that relies on an older version of *pandas*, for example, but you have the most upgraded version, it might break your tool. We won't spend a lot of time using Anaconda as a package manager and environment manager, but it's good to know that this functionality exists."
   ]
  },
  {
   "cell_type": "markdown",
   "metadata": {},
   "source": [
    "### Step 1 - Install Anaconda\n",
    "\n",
    "Go to the [Anaconda installation page](https://docs.anaconda.com/anaconda/install/), find your operating system, and follow the instructions.\n",
    "\n",
    "### Step 2 - Find and Open Anaconda Navigator\n",
    "Make sure Anaconda is installed by finding the application \"Anaconda Navigator\" on your computer. You should be able to find it by searching through your applications."
   ]
  },
  {
   "cell_type": "markdown",
   "metadata": {},
   "source": [
    "<img src=\"../images/installation/navigator-search.png\"  >\n",
    "<img src=\"../images/installation/navigator-app.png\" >"
   ]
  },
  {
   "cell_type": "markdown",
   "metadata": {},
   "source": [
    "### Step 3 - Launch JupyterLab\n",
    "\n",
    "Once Anaconda Navigator opens, you can launch JupyterLab by clicking the \"Launch\" button."
   ]
  },
  {
   "cell_type": "markdown",
   "metadata": {},
   "source": [
    "<img src=\"https://docs.anaconda.com/_images/nav-defaults.png\" width=100%>"
   ]
  },
  {
   "cell_type": "markdown",
   "metadata": {},
   "source": [
    "### Step 3 (Alternative) - Launch JupyterLab\n",
    "\n",
    "You should also be able to launch JupyterLab from a Terminal or Powershell by running:"
   ]
  },
  {
   "cell_type": "code",
   "execution_count": null,
   "metadata": {
    "tags": [
     "command_line"
    ]
   },
   "outputs": [],
   "source": [
    "jupyter lab"
   ]
  },
  {
   "cell_type": "markdown",
   "metadata": {},
   "source": [
    "## Installing VSCode"
   ]
  },
  {
   "cell_type": "markdown",
   "metadata": {},
   "source": [
    "Though we're mostly going to be programming in Jupyter notebooks, we're also going to install a code editor called VSCode, where you can also write, edit, and test Python code."
   ]
  },
  {
   "cell_type": "markdown",
   "metadata": {},
   "source": [
    "### Step 1 - Install VSCode\n",
    "\n",
    "Go to [VSCode's home page](https://code.visualstudio.com/), click download (it should know which OS you're using), and follow the instructions.\n",
    "\n",
    "### Step 2 - Install Python extension\n",
    "\n",
    "Install Python extension (it may automatically prompt you to install the Python extension)"
   ]
  },
  {
   "cell_type": "code",
   "execution_count": 9,
   "metadata": {
    "tags": [
     "hide-input"
    ]
   },
   "outputs": [
    {
     "data": {
      "text/html": [
       "\n",
       "        <iframe\n",
       "            width=\"100%\"\n",
       "            height=\"400px\"\n",
       "            src=\"../videos/VSCode-Tutorial.mp4\"\n",
       "            frameborder=\"0\"\n",
       "            allowfullscreen\n",
       "        ></iframe>\n",
       "        "
      ],
      "text/plain": [
       "<IPython.lib.display.IFrame at 0x7fad52d82210>"
      ]
     },
     "execution_count": 9,
     "metadata": {},
     "output_type": "execute_result"
    }
   ],
   "source": [
    "from IPython.display import IFrame\n",
    "IFrame(\"../videos/VSCode-Tutorial.mp4\", width='100%', height='400px')"
   ]
  },
  {
   "cell_type": "markdown",
   "metadata": {},
   "source": [
    "## (Optional) Installing [Variable Inspector](https://github.com/lckr/jupyterlab-variableInspector#install)"
   ]
  },
  {
   "cell_type": "markdown",
   "metadata": {},
   "source": [
    "If you want, you can install a special extension for JupyterLab called Variable Inspector, which will allow you to view currently active Python variables — basically, it will give you a better window into what's going on behind the scenes when you're coding.\n",
    "\n",
    "### Step 1 - Install Variable Inspector\n",
    "\n",
    "To install Variable Inspector, please open your Terminal or Powershell and enter the following:"
   ]
  },
  {
   "cell_type": "code",
   "execution_count": null,
   "metadata": {
    "tags": [
     "command_line"
    ]
   },
   "outputs": [],
   "source": [
    "pip install lckr-jupyterlab-variableinspector"
   ]
  },
  {
   "cell_type": "markdown",
   "metadata": {},
   "source": [
    "### Step 2 - Restart JupyterLab\n",
    "Then restart your JupyterLab application."
   ]
  },
  {
   "cell_type": "markdown",
   "metadata": {},
   "source": [
    "### Step  - Open Variable Inspector\n"
   ]
  },
  {
   "cell_type": "markdown",
   "metadata": {},
   "source": [
    "To use Variable Inspector, right-click in a Jupyter notebook and select \"Open Variable Inspector.\" You can drag and drop it to the bottom of your screen for convenience. "
   ]
  },
  {
   "cell_type": "code",
   "execution_count": 7,
   "metadata": {
    "tags": [
     "hide-input"
    ]
   },
   "outputs": [
    {
     "data": {
      "text/html": [
       "\n",
       "        <iframe\n",
       "            width=\"100%\"\n",
       "            height=\"400px\"\n",
       "            src=\"../videos/Variable-Inspector-Demo.mp4\"\n",
       "            frameborder=\"0\"\n",
       "            allowfullscreen\n",
       "        ></iframe>\n",
       "        "
      ],
      "text/plain": [
       "<IPython.lib.display.IFrame at 0x7fad515bb090>"
      ]
     },
     "execution_count": 7,
     "metadata": {},
     "output_type": "execute_result"
    }
   ],
   "source": [
    "from IPython.display import IFrame\n",
    "IFrame(\"../videos/Variable-Inspector-Demo.mp4\", width='100%', height='400px')"
   ]
  }
 ],
 "metadata": {
  "kernelspec": {
   "display_name": "Python 3",
   "language": "python",
   "name": "python3"
  },
  "language_info": {
   "codemirror_mode": {
    "name": "ipython",
    "version": 3
   },
   "file_extension": ".py",
   "mimetype": "text/x-python",
   "name": "python",
   "nbconvert_exporter": "python",
   "pygments_lexer": "ipython3",
   "version": "3.8.8"
  },
  "toc-autonumbering": false,
  "toc-showcode": true,
  "toc-showmarkdowntxt": false,
  "toc-showtags": true
 },
 "nbformat": 4,
 "nbformat_minor": 4
}
