{
 "cells": [
  {
   "cell_type": "markdown",
   "metadata": {},
   "source": [
    "# Introduction to Cultural Analytics & Python \n",
    "<br>\n",
    "\n",
    "**Designed by [Melanie Walsh](https://melaniewalsh.org/) // Powered by [Jupyter Book](https://jupyterbook.org/)**  \n",
    "\n",
    "This website hosts an online textbook, *Introduction to Cultural Analytics & Python*, which offers an introduction to the programming language Python that is specifically designed for people interested in the humanities and social sciences.\n",
    "\n",
    "```{figure} images/logo/logo.png\n",
    "---\n",
    "height: 200px\n",
    "---\n",
    "\n",
    "```\n",
    "\n",
    "This book demonstrates how Python can be used to study cultural materials such as song lyrics, short stories, newspaper articles, tweets, Reddit posts, and film screenplays. It also introduces computational methods such as web scraping, APIs, topic modeling, Named Entity Recognition (NER), network analysis, and mapping.\n",
    "\n",
    "These materials were originally created to support \"Introduction to Cultural Analytics: Data, Computation & Culture,\" an undergraduate course taught at Cornell University and the University of Washington.\n",
    "\n",
    "\n",
    "**What is Cultural Analytics?**  \n",
    "Cultural analytics is the study of culture with computational methods. Culture is a broad term that includes literature, history, politics, art, music, social media, and a lot more. Cultural analytics is a growing research area in fields like [Digital Humanities](https://cmu-lib.github.io/dhlg/what-are-dh/) and [Information Science](https://infosci.cornell.edu/research). \n",
    "\n",
    "**Interactive Code <i class=\"fa fa-rocket\" aria-hidden=\"true\"></i>**  \n",
    "\n",
    "This book's pages contain Python code that can be opened and run in a web browser without any prior installation or configuration. Click the launch button <i class=\"fa fa-rocket\" aria-hidden=\"true\"></i> in the top right corner of any page to open and play with the code. See {doc}`How To Interact With This Book <How-To-Interact-With-This-Book>` for more information.\n",
    "\n",
    "**Acknowledgments**  \n",
    "This course was inspired by a range of excellent course materials, including those by [Lauren Klein](https://github.com/laurenfklein/emory-qtm340), [David Mimno](https://mimno.infosci.cornell.edu/info3350/), and [Allison Parrish](https://github.com/aparrish/rwet). The section \"Working with Languages Beyond English\" was co-authored with [Quinn Dombrowski](http://www.quinndombrowski.com/).\n",
    "\n",
    "**Suggested Citation**\n",
    "\n",
    "> Melanie Walsh, *Introduction to Cultural Analytics & Python*, Version 1 (2021), [https://doi.org/10.5281/zenodo.4411250](https://doi.org/10.5281/zenodo.4411250).\n",
    "\n",
    "**Support This Project**\n",
    "\n",
    "I'm proud to make this book freely available, but if you find it useful, and if you'd like to support its continued development and maintenance, you can [buy me a coffee ☕](https://www.buymeacoffee.com/melaniewalsh)."
   ]
  }
 ],
 "metadata": {
  "kernelspec": {
   "display_name": "Python 3",
   "language": "python",
   "name": "python3"
  },
  "language_info": {
   "codemirror_mode": {
    "name": "ipython",
    "version": 3
   },
   "file_extension": ".py",
   "mimetype": "text/x-python",
   "name": "python",
   "nbconvert_exporter": "python",
   "pygments_lexer": "ipython3",
   "version": "3.8.8"
  }
 },
 "nbformat": 4,
 "nbformat_minor": 4
}
