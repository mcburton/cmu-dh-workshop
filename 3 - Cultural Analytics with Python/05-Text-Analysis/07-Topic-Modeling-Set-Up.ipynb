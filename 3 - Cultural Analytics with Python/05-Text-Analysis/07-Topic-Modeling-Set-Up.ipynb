{
 "cells": [
  {
   "cell_type": "markdown",
   "metadata": {},
   "source": [
    "# Topic Modeling — Set Up"
   ]
  },
  {
   "cell_type": "markdown",
   "metadata": {},
   "source": [
    "In these lessons, we're learning about a text analysis method called *topic modeling*. This method will help us identify the main topics or discourses within a collection of texts or within a single text that has been separated into smaller text chunks.\n",
    "\n",
    "This page describes how to set up the packages and programs that you'll need if you want to start topic modeling on your own computer. If you want to topic model without installing anything, however, you can skip ahead and explore these Jupyter notebook topic modeling lessons in the cloud. The notebooks already have the necessary requirements installed."
   ]
  },
  {
   "cell_type": "markdown",
   "metadata": {},
   "source": [
    "## MALLET & Little MALLET Wrapper"
   ]
  },
  {
   "cell_type": "markdown",
   "metadata": {},
   "source": [
    "For our topic modeling analysis, we're going to use a tool called [MALLET](http://mallet.cs.umass.edu/topics.php). MALLET, short for **MA**chine **L**earning for **L**anguag**E** **T**oolkit, is a software package for  topic modeling and other natural language processing techniques. It's maintained by David Mimno, a Cornell professor in Information Science. Go Big Red!\n",
    "\n",
    "MALLET is great, but it's written in Java, another programming language, which means that we have to install Java before we can use it. It also means that MALLET isn't typically ideal for Python and Jupyter notebooks.\n",
    "\n",
    "Luckily, another Cornellian, Maria Antoniak, a PhD student in Information Science, has written a convenient Python package that will allow us to use MALLET in this Jupyter notebook after we download and install Java. This package is called [Little MALLET Wrapper](https://github.com/maria-antoniak/little-mallet-wrapper).\n",
    "\n",
    "Note: A \"wrapper\" is a Python package that makes complicated code easier to use and/or makes code from a different programming language accessible in Python."
   ]
  },
  {
   "cell_type": "markdown",
   "metadata": {},
   "source": [
    "## Download and Install Java Development Kit"
   ]
  },
  {
   "cell_type": "markdown",
   "metadata": {},
   "source": [
    "But first, we have to install Java, specifically the Java Development Kit.\n",
    "\n",
    "Go to the Java Development Kit download page, find your operating system, and click on the corresponding download link: https://www.oracle.com/java/technologies/javase-jdk14-downloads.html\n",
    "\n",
    "- Linux -> Linux Compressed Archive\n",
    "- Mac -> macOS Installer\n",
    "- Windows -> Windowsx64 Installer\n",
    "\n",
    "Then open or unzip the file and follow all the prompts. You can use all the suggested defaults."
   ]
  },
  {
   "cell_type": "markdown",
   "metadata": {},
   "source": [
    "## Tell Your Computer Where to Find Java"
   ]
  },
  {
   "cell_type": "markdown",
   "metadata": {},
   "source": [
    "Now that we have the JDK downloaded, we have to tell our computers where to find it. For Mac/Chrome/Linux users, we have to set up a special [\"environment\" variable](https://launchschool.com/books/command_line/read/environment#environmentvariables) called `JAVA_HOME` and give it the file path where we just downloaded our Java Development Kit. For Windows users, we have to edit the special environmental variable called `PATH` and add the file path of the JDK.\n",
    "\n",
    "Note: \"Environment\" variables are kind of like Python variables, except they exist in your whole computer environment. The Launch School has a helpful chapter on [environment variables](https://launchschool.com/books/command_line/read/environment#environmentvariables) and the [PATH](https://launchschool.com/books/command_line/read/environment#path) variable."
   ]
  },
  {
   "cell_type": "markdown",
   "metadata": {},
   "source": [
    "###  Mac"
   ]
  },
  {
   "cell_type": "markdown",
   "metadata": {},
   "source": [
    "To set up the `JAVA_HOME` environment variable on a Mac, you can run the following on the command line. The line of code adds your `JAVA_HOME` variable to a file called \"bash_profile\", which is where environment variables are stored."
   ]
  },
  {
   "cell_type": "code",
   "execution_count": 2,
   "metadata": {},
   "outputs": [],
   "source": [
    "!echo \"export JAVA_HOME=$(/usr/libexec/java_home)\" >> ~/.bash_profile"
   ]
  },
  {
   "cell_type": "markdown",
   "metadata": {},
   "source": [
    "To immediately update your \"bash_profile,\" run:"
   ]
  },
  {
   "cell_type": "code",
   "execution_count": 3,
   "metadata": {},
   "outputs": [],
   "source": [
    "!source ~/.bash_profile"
   ]
  },
  {
   "cell_type": "markdown",
   "metadata": {},
   "source": [
    "Then, to test whether Java installed correctly, run `javac` on the command line. If you get a list of options, as below, then you've installed the JDK properly. If it says the command is not recognized, then you don't have JDK set up yet."
   ]
  },
  {
   "cell_type": "code",
   "execution_count": 1,
   "metadata": {
    "scrolled": true,
    "tags": [
     "output_scroll"
    ]
   },
   "outputs": [
    {
     "name": "stdout",
     "output_type": "stream",
     "text": [
      "Usage: javac <options> <source files>\n",
      "where possible options include:\n",
      "  @<filename>                  Read options and filenames from file\n",
      "  -Akey[=value]                Options to pass to annotation processors\n",
      "  --add-modules <module>(,<module>)*\n",
      "        Root modules to resolve in addition to the initial modules, or all modules\n",
      "        on the module path if <module> is ALL-MODULE-PATH.\n",
      "  --boot-class-path <path>, -bootclasspath <path>\n",
      "        Override location of bootstrap class files\n",
      "  --class-path <path>, -classpath <path>, -cp <path>\n",
      "        Specify where to find user class files and annotation processors\n",
      "  -d <directory>               Specify where to place generated class files\n",
      "  -deprecation\n",
      "        Output source locations where deprecated APIs are used\n",
      "  --enable-preview\n",
      "        Enable preview language features. To be used in conjunction with either -source or --release.\n",
      "  -encoding <encoding>         Specify character encoding used by source files\n",
      "  -endorseddirs <dirs>         Override location of endorsed standards path\n",
      "  -extdirs <dirs>              Override location of installed extensions\n",
      "  -g                           Generate all debugging info\n",
      "  -g:{lines,vars,source}       Generate only some debugging info\n",
      "  -g:none                      Generate no debugging info\n",
      "  -h <directory>\n",
      "        Specify where to place generated native header files\n",
      "  --help, -help, -?            Print this help message\n",
      "  --help-extra, -X             Print help on extra options\n",
      "  -implicit:{none,class}\n",
      "        Specify whether or not to generate class files for implicitly referenced files\n",
      "  -J<flag>                     Pass <flag> directly to the runtime system\n",
      "  --limit-modules <module>(,<module>)*\n",
      "        Limit the universe of observable modules\n",
      "  --module <module>(,<module>)*, -m <module>(,<module>)*\n",
      "        Compile only the specified module(s), check timestamps\n",
      "  --module-path <path>, -p <path>\n",
      "        Specify where to find application modules\n",
      "  --module-source-path <module-source-path>\n",
      "        Specify where to find input source files for multiple modules\n",
      "  --module-version <version>\n",
      "        Specify version of modules that are being compiled\n",
      "  -nowarn                      Generate no warnings\n",
      "  -parameters\n",
      "        Generate metadata for reflection on method parameters\n",
      "  -proc:{none,only}\n",
      "        Control whether annotation processing and/or compilation is done.\n",
      "  -processor <class1>[,<class2>,<class3>...]\n",
      "        Names of the annotation processors to run; bypasses default discovery process\n",
      "  --processor-module-path <path>\n",
      "        Specify a module path where to find annotation processors\n",
      "  --processor-path <path>, -processorpath <path>\n",
      "        Specify where to find annotation processors\n",
      "  -profile <profile>\n",
      "        Check that API used is available in the specified profile\n",
      "  --release <release>\n",
      "        Compile for the specified Java SE release. Supported releases: 7, 8, 9, 10, 11, 12, 13, 14, 15, 16\n",
      "  -s <directory>               Specify where to place generated source files\n",
      "  --source <release>, -source <release>\n",
      "        Provide source compatibility with the specified Java SE release. Supported releases: 7, 8, 9, 10, 11, 12, 13, 14, 15, 16\n",
      "  --source-path <path>, -sourcepath <path>\n",
      "        Specify where to find input source files\n",
      "  --system <jdk>|none          Override location of system modules\n",
      "  --target <release>, -target <release>\n",
      "        Generate class files suitable for the specified Java SE release. Supported releases: 7, 8, 9, 10, 11, 12, 13, 14, 15, 16\n",
      "  --upgrade-module-path <path>\n",
      "        Override location of upgradeable modules\n",
      "  -verbose                     Output messages about what the compiler is doing\n",
      "  --version, -version          Version information\n",
      "  -Werror                      Terminate compilation if warnings occur\n",
      "\n"
     ]
    }
   ],
   "source": [
    "!javac"
   ]
  },
  {
   "cell_type": "markdown",
   "metadata": {},
   "source": [
    "### <img src=https://upload.wikimedia.org/wikipedia/commons/thumb/3/34/Windows_logo_-_2012_derivative.svg/1024px-Windows_logo_-_2012_derivative.svg.png width=20 align='left'> Windows "
   ]
  },
  {
   "cell_type": "markdown",
   "metadata": {},
   "source": [
    "To edit the `PATH` variable on a Windows computer, follow the instructions below:"
   ]
  },
  {
   "cell_type": "code",
   "execution_count": null,
   "metadata": {},
   "outputs": [],
   "source": [
    "- Open Search and type \"advanced system settings\"\n",
    "- In the shown options, select the \"View advanced system settings\" link\n",
    "- Under the Advanced tab, click \"Environment Variables\"\n",
    "- Under \"System variables,\" click the variable \"PATH\" and then click \"Edit\"\n",
    "- Click \"New\" and add the file path to the JDK (e.g. `C:\\Program Files\\Java\\jdk13.0.2\\bin`)"
   ]
  },
  {
   "cell_type": "markdown",
   "metadata": {},
   "source": [
    "For more Windows installation help, see Prof. Paul Vierthaler's video tutorial [\"Practical Python for DH: Topic Modeling Software Install\"](https://youtu.be/2C3cDEd7h4o?t=224)."
   ]
  },
  {
   "cell_type": "markdown",
   "metadata": {},
   "source": [
    "Now restart your PowerShell. To test whether java is installed, run `javac` in the PowerShell. If you get a list of options, then you've installed the JDK properly. If it says the command is not recognized, then you don't have it yet."
   ]
  },
  {
   "cell_type": "code",
   "execution_count": null,
   "metadata": {
    "scrolled": true
   },
   "outputs": [],
   "source": [
    "!javac"
   ]
  },
  {
   "cell_type": "markdown",
   "metadata": {},
   "source": [
    "### Chrome / Linux"
   ]
  },
  {
   "cell_type": "markdown",
   "metadata": {},
   "source": [
    "To set up the `JAVA_HOME` environment variable on a Linux machine or a Chrome computer running Linux, you can run the following on the command line. The line of code adds your `JAVA_HOME` variable to a file called \"bashrc\", which is where environment variables are stored."
   ]
  },
  {
   "cell_type": "markdown",
   "metadata": {},
   "source": [
    "Make sure to change `/fill-in-the-path/to/your-java_installation` to the file path where your JDK actually exists below:"
   ]
  },
  {
   "cell_type": "code",
   "execution_count": null,
   "metadata": {},
   "outputs": [],
   "source": [
    "!echo \"export JAVA_HOME=/fill-in-the-path/to/your-java_installation/bin\" >> ~/.bashrc"
   ]
  },
  {
   "cell_type": "markdown",
   "metadata": {},
   "source": [
    "To immediately update your \"bash_profile,\" run:"
   ]
  },
  {
   "cell_type": "code",
   "execution_count": null,
   "metadata": {},
   "outputs": [],
   "source": [
    "!source ~/.bashrc"
   ]
  },
  {
   "cell_type": "markdown",
   "metadata": {},
   "source": [
    "To test whether java is installed, run `javac` on the command line. If you get a list of options, as below, then you've installed the JDK properly. If it says the command is not recognized, then you don't have it yet."
   ]
  },
  {
   "cell_type": "code",
   "execution_count": null,
   "metadata": {
    "scrolled": true
   },
   "outputs": [],
   "source": [
    "!javac"
   ]
  },
  {
   "cell_type": "markdown",
   "metadata": {},
   "source": [
    "## Download and Unzip MALLET"
   ]
  },
  {
   "cell_type": "markdown",
   "metadata": {},
   "source": [
    "Now we need to download the MALLET package. To download MALLET, click the following link http://mallet.cs.umass.edu/dist/mallet-2.0.8.zip or find the link on the [MALLET home page](http://mallet.cs.umass.edu/download.php). Once the zip file downloads, unzip it."
   ]
  },
  {
   "cell_type": "markdown",
   "metadata": {},
   "source": [
    "If you're using a Mac, move the \"mallet-2.0.8\" directory into your home folder.\n",
    "\n",
    "*Note: To open your \"home\" folder, open \"Finder\" and type `Cmd` + `Shift` + `H`. To move one directory up, type `Cmd` + `↑`. Now, if you want to bookmark your home folder so you can find it more easily in the future, simply drag and drop your home folder to the sidebar.*\n",
    "\n",
    "If you're using a Windows computer, move the \"mallet-2.0.8\" directory int your `C:\\` drive. "
   ]
  },
  {
   "cell_type": "markdown",
   "metadata": {},
   "source": [
    "### <img src=https://upload.wikimedia.org/wikipedia/commons/thumb/3/34/Windows_logo_-_2012_derivative.svg/1024px-Windows_logo_-_2012_derivative.svg.png width=20 align='left'> Heads Up Windows Users! "
   ]
  },
  {
   "cell_type": "markdown",
   "metadata": {},
   "source": [
    "You need to complete one more step. You need to once again tell your computer where MALLET is located:"
   ]
  },
  {
   "cell_type": "markdown",
   "metadata": {},
   "source": [
    "- Open Search and type \"advanced system settings\"\n",
    "- In the shown options, select the View advanced system settings link\n",
    "- Under the Advanced tab, click \"Environment Variables\"\n",
    "- In the User variables section, click \"New\"\n",
    "- For the Variable name, type `MALLET_HOME`. For the Value, type the path to your MALLET: `C:\\mallet-2.0.8`. Then click OK\n",
    "- Click OK and click Apply to apply the changes"
   ]
  },
  {
   "cell_type": "markdown",
   "metadata": {},
   "source": [
    "For more Windows help, see Prof. Paul Vierthaler's [topic modeling tutorial](https://youtu.be/2C3cDEd7h4o?t=107)."
   ]
  },
  {
   "cell_type": "markdown",
   "metadata": {},
   "source": [
    "To test whether MALLET works on your computer, type in the file path for MALLET on the command line and `import-file`.\n",
    "\n",
    "If it's working, then you'll get a message that says \"A tool for creating instance lists of feature vectors from comma-separated-values\" and a list of options."
   ]
  },
  {
   "cell_type": "code",
   "execution_count": 9,
   "metadata": {
    "scrolled": true,
    "tags": [
     "output_scroll"
    ]
   },
   "outputs": [
    {
     "name": "stdout",
     "output_type": "stream",
     "text": [
      "A tool for creating instance lists of feature vectors from comma-separated-values\n",
      "--help TRUE|FALSE\n",
      "  Print this command line option usage information.  Give argument of TRUE for longer documentation\n",
      "  Default is false\n",
      "--prefix-code 'JAVA CODE'\n",
      "  Java code you want run before any other interpreted code.  Note that the text is interpreted without modification, so unlike some other Java code options, you need to include any necessary 'new's when creating objects.\n",
      "  Default is null\n",
      "--config FILE\n",
      "  Read command option values from a file\n",
      "  Default is null\n",
      "--input FILE\n",
      "  The file containing data to be classified, one instance per line\n",
      "  Default is null\n",
      "--output FILE\n",
      "  Write the instance list to this file; Using - indicates stdout.\n",
      "  Default is text.vectors\n",
      "--line-regex REGEX\n",
      "  Regular expression containing regex-groups for label, name and data.\n",
      "  Default is ^(\\S*)[\\s,]*(\\S*)[\\s,]*(.*)$\n",
      "--label INTEGER\n",
      "  The index of the group containing the label string.\n",
      "   Use 0 to indicate that the label field is not used.\n",
      "  Default is 2\n",
      "--name INTEGER\n",
      "  The index of the group containing the instance name.\n",
      "   Use 0 to indicate that the name field is not used.\n",
      "  Default is 1\n",
      "--data INTEGER\n",
      "  The index of the group containing the data.\n",
      "  Default is 3\n",
      "--use-pipe-from FILE\n",
      "  Use the pipe and alphabets from a previously created vectors file.\n",
      "   Allows the creation, for example, of a test set of vectors that are\n",
      "   compatible with a previously created set of training vectors\n",
      "  Default is text.vectors\n",
      "--keep-sequence [TRUE|FALSE]\n",
      "  If true, final data will be a FeatureSequence rather than a FeatureVector.\n",
      "  Default is false\n",
      "--keep-sequence-bigrams [TRUE|FALSE]\n",
      "  If true, final data will be a FeatureSequenceWithBigrams rather than a FeatureVector.\n",
      "  Default is false\n",
      "--label-as-features [TRUE|FALSE]\n",
      "  If true, parse the 'label' field as space-delimited features.\n",
      "     Use feature=[number] to specify values for non-binary features.\n",
      "  Default is false\n",
      "--remove-stopwords [TRUE|FALSE]\n",
      "  If true, remove a default list of common English \"stop words\" from the text.\n",
      "  Default is false\n",
      "--replacement-files FILE [FILE ...]\n",
      "  files containing string replacements, one per line:\n",
      "    'A B [tab] C' replaces A B with C,\n",
      "    'A B' replaces A B with A_B\n",
      "  Default is (null)\n",
      "--deletion-files FILE [FILE ...]\n",
      "  files containing strings to delete after replacements but before tokenization (ie multiword stop terms)\n",
      "  Default is (null)\n",
      "--stoplist-file FILE\n",
      "  Instead of the default list, read stop words from a file, one per line. Implies --remove-stopwords\n",
      "  Default is null\n",
      "--extra-stopwords FILE\n",
      "  Read whitespace-separated words from this file, and add them to either \n",
      "   the default English stoplist or the list specified by --stoplist-file.\n",
      "  Default is null\n",
      "--stop-pattern-file FILE\n",
      "  Read regular expressions from a file, one per line. Tokens matching these regexps will be removed.\n",
      "  Default is null\n",
      "--preserve-case [TRUE|FALSE]\n",
      "  If true, do not force all strings to lowercase.\n",
      "  Default is false\n",
      "--encoding STRING\n",
      "  Character encoding for input file\n",
      "  Default is UTF-8\n",
      "--token-regex REGEX\n",
      "  Regular expression used for tokenization.\n",
      "   Example: \"[\\p{L}\\p{N}_]+|[\\p{P}]+\" (unicode letters, numbers and underscore OR all punctuation) \n",
      "  Default is \\p{L}[\\p{L}\\p{P}]+\\p{L}\n",
      "--print-output [TRUE|FALSE]\n",
      "  If true, print a representation of the processed data\n",
      "   to standard output. This option is intended for debugging.\n",
      "  Default is false\n"
     ]
    }
   ],
   "source": [
    "!~/mallet-2.0.8/bin/mallet import-file"
   ]
  },
  {
   "cell_type": "markdown",
   "metadata": {},
   "source": [
    "## Install Little MALLET Wrapper"
   ]
  },
  {
   "cell_type": "markdown",
   "metadata": {},
   "source": [
    "Finally, we're going to install the Python package [little_mallet_wrapper](https://github.com/maria-antoniak/little-mallet-wrapper). To install it, run `pip install little_mallet_wrapper`, as below."
   ]
  },
  {
   "cell_type": "code",
   "execution_count": null,
   "metadata": {},
   "outputs": [],
   "source": [
    "!pip install little_mallet_wrapper"
   ]
  },
  {
   "cell_type": "markdown",
   "metadata": {},
   "source": [
    "Since Little MALLET Wrapper also uses the data visualization library `seaborn`, we're also going to `pip install seaborn`:"
   ]
  },
  {
   "cell_type": "code",
   "execution_count": null,
   "metadata": {},
   "outputs": [],
   "source": [
    "!pip install seaborn"
   ]
  },
  {
   "cell_type": "markdown",
   "metadata": {},
   "source": [
    "## You're Ready! 🥳\n"
   ]
  }
 ],
 "metadata": {
  "kernelspec": {
   "display_name": "Python 3",
   "language": "python",
   "name": "python3"
  },
  "language_info": {
   "codemirror_mode": {
    "name": "ipython",
    "version": 3
   },
   "file_extension": ".py",
   "mimetype": "text/x-python",
   "name": "python",
   "nbconvert_exporter": "python",
   "pygments_lexer": "ipython3",
   "version": "3.8.8"
  }
 },
 "nbformat": 4,
 "nbformat_minor": 4
}
