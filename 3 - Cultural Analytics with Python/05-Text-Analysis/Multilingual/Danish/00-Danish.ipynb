{
 "cells": [
  {
   "cell_type": "markdown",
   "id": "63a16a8b-15f4-4525-86fb-91e7be72c694",
   "metadata": {},
   "source": [
    "## Danish"
   ]
  },
  {
   "cell_type": "markdown",
   "id": "1d6302b1-8f37-4859-abe6-994e1fc32af4",
   "metadata": {},
   "source": [
    "These lessons will help you do text analysis with Danish:"
   ]
  },
  {
   "cell_type": "markdown",
   "id": "bc76202c-6df5-4580-98ce-bfe8173b34d3",
   "metadata": {},
   "source": [
    "```{tableofcontents}\n",
    "```"
   ]
  }
 ],
 "metadata": {
  "kernelspec": {
   "display_name": "Python 3",
   "language": "python",
   "name": "python3"
  },
  "language_info": {
   "codemirror_mode": {
    "name": "ipython",
    "version": 3
   },
   "file_extension": ".py",
   "mimetype": "text/x-python",
   "name": "python",
   "nbconvert_exporter": "python",
   "pygments_lexer": "ipython3",
   "version": "3.8.8"
  }
 },
 "nbformat": 4,
 "nbformat_minor": 5
}
